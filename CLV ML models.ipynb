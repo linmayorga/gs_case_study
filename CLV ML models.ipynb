{
 "cells": [
  {
   "cell_type": "code",
   "execution_count": 1,
   "id": "90c74438-2fcd-4012-abda-1eb0a1f16c1c",
   "metadata": {
    "execution": {
     "iopub.execute_input": "2023-12-05T15:40:59.813287Z",
     "iopub.status.busy": "2023-12-05T15:40:59.813057Z",
     "iopub.status.idle": "2023-12-05T15:41:00.466659Z",
     "shell.execute_reply": "2023-12-05T15:41:00.465775Z",
     "shell.execute_reply.started": "2023-12-05T15:40:59.813263Z"
    },
    "tags": []
   },
   "outputs": [],
   "source": [
    "import pandas as pd\n",
    "\n",
    "from clv_predictor.clv_predictor import CLVPredictor\n",
    "from clv_predictor.data_preparer import DataPreparer\n",
    "from matplotlib import pyplot as plt"
   ]
  },
  {
   "cell_type": "code",
   "execution_count": 2,
   "id": "f57b7b3f-2cdf-4077-b515-064ceef3bc22",
   "metadata": {
    "execution": {
     "iopub.execute_input": "2023-12-05T15:41:00.468619Z",
     "iopub.status.busy": "2023-12-05T15:41:00.468205Z",
     "iopub.status.idle": "2023-12-05T15:41:00.472811Z",
     "shell.execute_reply": "2023-12-05T15:41:00.471802Z",
     "shell.execute_reply.started": "2023-12-05T15:41:00.468591Z"
    },
    "tags": []
   },
   "outputs": [],
   "source": [
    "base_path = \"data/case_study_base_anon.csv\"\n",
    "xs_path = \"data/case_study_xs_anon.csv\""
   ]
  },
  {
   "cell_type": "markdown",
   "id": "230907af-f9f6-4236-a9df-4528b41ab64e",
   "metadata": {
    "tags": []
   },
   "source": [
    "## 0. General problem definition"
   ]
  },
  {
   "cell_type": "markdown",
   "id": "04f2da31-1709-47af-88e7-e618a081f8bc",
   "metadata": {},
   "source": [
    "We will tackle the problem as 2 separate parts:\n",
    "1. Predict 12-month CLV based on the customer base data\n",
    "2. Predict total cross-sell CLV based on the cross sell data joined with customer base features and added negative samples\n",
    "\n",
    "For a given new customer, we can then predict the total CLV by adding up the predictions of both models"
   ]
  },
  {
   "cell_type": "markdown",
   "id": "4fe5753a-c8d2-4b3c-901a-36af8ab5f3a5",
   "metadata": {},
   "source": [
    "## 1. Predict 12-month CLV based on customer base data"
   ]
  },
  {
   "cell_type": "markdown",
   "id": "ea7a853b-1aac-4646-b54f-6edb5e6b953d",
   "metadata": {},
   "source": [
    "### 1.1 Problem overview and data preparation"
   ]
  },
  {
   "cell_type": "markdown",
   "id": "42c9078d-9a8a-4011-8c45-ef084ce69d69",
   "metadata": {},
   "source": [
    "We'll estimate the 12-month CLV for a given customer, based on the features listed below. \n",
    "\n",
    "Note that we are not using any duration related features, as we assume that, as we want to estimate CLV for new customers, we won't yet know how long they are subscribed to a product with Getsafe and thus shouldn't use this information as a feature. In the future, a model that takes into account duration could be explored, predictions with it could be produced on a rolling basis for active customers as their duration information is updated\n",
    "\n",
    "For the current solution however, the specifications are as follows:\n",
    "\n",
    "Dependent variable: user-level 12-month CLV\n",
    "\n",
    "Features: product, commission, channel, age_bucket, operating_system, month_start, day_start\n",
    "\n",
    "\n",
    "In order to make our data ready for a machine learning (ML) model, the data_preparer module was created. This module contains the DataPreparer class which performs the necessary data preparation steps identified during the EDA for both the base and cross sale data. The specific data preparation steps for this dataset are explained below\n",
    "\n",
    "Data preparation steps:\n",
    "- Read customer base data from csv\n",
    "- Fill operating_system NaNs with 'undefined': we decided to keep the 'undefined' category as we observed customer behavior associated to low 12 month CLV for it, so without additional knowledge of the data and problem it was prefer to keep it vs fill the values with something that could alter the relationships within the data\n",
    "- Compute 12-month CLV for observations with full information: observations without crystalized historical 12-month CLV are dropped\n",
    "- Discard observations with negative historical 12-month CLV\n",
    "- Split dataframe into features X=[\"product\", \"commission\", \"channel\", \"age_bucket\", \"operating_system\", \"month_start\", \"day_start\"], and dependent variable y=\"clv_12\"\n",
    "- Separate data into train (80%) and test (20%) sets\n",
    "- Handle 12-month CLV and commission outliers for train set: the DataPreparer class takes a 'handle_outliers_base' flag to indicate whether we want to substitute outliers' values for the base dataset. The substitution method consists of replacing the outlier values with the upper and lower bound identified through the interquartile range method"
   ]
  },
  {
   "cell_type": "markdown",
   "id": "fea7f15c-9806-4e7e-8c67-916f5a2b69a1",
   "metadata": {},
   "source": [
    "Let's initialize our data_preparer to get the data for the customer base model ready"
   ]
  },
  {
   "cell_type": "code",
   "execution_count": 3,
   "id": "9d00177e-af3e-45e2-a642-232b6f7f2ec5",
   "metadata": {
    "execution": {
     "iopub.execute_input": "2023-12-05T15:41:04.337406Z",
     "iopub.status.busy": "2023-12-05T15:41:04.336335Z",
     "iopub.status.idle": "2023-12-05T15:41:04.486120Z",
     "shell.execute_reply": "2023-12-05T15:41:04.485117Z",
     "shell.execute_reply.started": "2023-12-05T15:41:04.337369Z"
    },
    "tags": []
   },
   "outputs": [],
   "source": [
    "data_preparer = DataPreparer(base_path, xs_path, handle_outliers_flag=True)"
   ]
  },
  {
   "cell_type": "markdown",
   "id": "c2453436-38f0-41c9-955a-eb572e632d58",
   "metadata": {},
   "source": [
    "We now run the prepare_base_data_for_ml_model method, which will prepare the customer base data by following the data preparation steps mentioned above"
   ]
  },
  {
   "cell_type": "code",
   "execution_count": 4,
   "id": "ec828710-5afc-44be-baa0-0e7089775180",
   "metadata": {
    "execution": {
     "iopub.execute_input": "2023-12-05T15:41:04.884903Z",
     "iopub.status.busy": "2023-12-05T15:41:04.883788Z",
     "iopub.status.idle": "2023-12-05T15:41:13.415687Z",
     "shell.execute_reply": "2023-12-05T15:41:13.414690Z",
     "shell.execute_reply.started": "2023-12-05T15:41:04.884844Z"
    },
    "tags": []
   },
   "outputs": [
    {
     "name": "stderr",
     "output_type": "stream",
     "text": [
      "Handle outliers\n"
     ]
    }
   ],
   "source": [
    "data_preparer.prepare_base_data_for_ml_model()"
   ]
  },
  {
   "cell_type": "markdown",
   "id": "735bb07d-04c1-4038-9a71-baa604320ba6",
   "metadata": {},
   "source": [
    "X_base_train, X_base_test, y_base_train and y_base_test are now stored as attributes of the data_preparer object:"
   ]
  },
  {
   "cell_type": "code",
   "execution_count": 5,
   "id": "c2338d8b-a175-4460-a8f4-d1925f1f2a8d",
   "metadata": {
    "execution": {
     "iopub.execute_input": "2023-12-05T15:42:02.574657Z",
     "iopub.status.busy": "2023-12-05T15:42:02.573517Z",
     "iopub.status.idle": "2023-12-05T15:42:02.589180Z",
     "shell.execute_reply": "2023-12-05T15:42:02.588267Z",
     "shell.execute_reply.started": "2023-12-05T15:42:02.574612Z"
    },
    "tags": []
   },
   "outputs": [
    {
     "data": {
      "text/html": [
       "<div>\n",
       "<style scoped>\n",
       "    .dataframe tbody tr th:only-of-type {\n",
       "        vertical-align: middle;\n",
       "    }\n",
       "\n",
       "    .dataframe tbody tr th {\n",
       "        vertical-align: top;\n",
       "    }\n",
       "\n",
       "    .dataframe thead th {\n",
       "        text-align: right;\n",
       "    }\n",
       "</style>\n",
       "<table border=\"1\" class=\"dataframe\">\n",
       "  <thead>\n",
       "    <tr style=\"text-align: right;\">\n",
       "      <th></th>\n",
       "      <th>product</th>\n",
       "      <th>commission</th>\n",
       "      <th>channel</th>\n",
       "      <th>age_bucket</th>\n",
       "      <th>operating_system</th>\n",
       "      <th>month_start</th>\n",
       "      <th>day_start</th>\n",
       "    </tr>\n",
       "  </thead>\n",
       "  <tbody>\n",
       "    <tr>\n",
       "      <th>52991</th>\n",
       "      <td>product_c</td>\n",
       "      <td>15.79125</td>\n",
       "      <td>channel_a</td>\n",
       "      <td>30-34</td>\n",
       "      <td>Android</td>\n",
       "      <td>12</td>\n",
       "      <td>4</td>\n",
       "    </tr>\n",
       "    <tr>\n",
       "      <th>11280</th>\n",
       "      <td>product_a</td>\n",
       "      <td>14.47250</td>\n",
       "      <td>channel_a</td>\n",
       "      <td>40-44</td>\n",
       "      <td>Android</td>\n",
       "      <td>8</td>\n",
       "      <td>4</td>\n",
       "    </tr>\n",
       "    <tr>\n",
       "      <th>61074</th>\n",
       "      <td>product_a</td>\n",
       "      <td>12.17750</td>\n",
       "      <td>channel_a</td>\n",
       "      <td>55+</td>\n",
       "      <td>Android</td>\n",
       "      <td>1</td>\n",
       "      <td>5</td>\n",
       "    </tr>\n",
       "    <tr>\n",
       "      <th>13940</th>\n",
       "      <td>product_a</td>\n",
       "      <td>14.90500</td>\n",
       "      <td>channel_b</td>\n",
       "      <td>18-24</td>\n",
       "      <td>iOS</td>\n",
       "      <td>2</td>\n",
       "      <td>2</td>\n",
       "    </tr>\n",
       "    <tr>\n",
       "      <th>64299</th>\n",
       "      <td>product_b</td>\n",
       "      <td>12.24250</td>\n",
       "      <td>channel_b</td>\n",
       "      <td>50-54</td>\n",
       "      <td>iOS</td>\n",
       "      <td>9</td>\n",
       "      <td>4</td>\n",
       "    </tr>\n",
       "  </tbody>\n",
       "</table>\n",
       "</div>"
      ],
      "text/plain": [
       "         product  commission    channel age_bucket operating_system  \\\n",
       "52991  product_c    15.79125  channel_a      30-34          Android   \n",
       "11280  product_a    14.47250  channel_a      40-44          Android   \n",
       "61074  product_a    12.17750  channel_a        55+          Android   \n",
       "13940  product_a    14.90500  channel_b      18-24              iOS   \n",
       "64299  product_b    12.24250  channel_b      50-54              iOS   \n",
       "\n",
       "       month_start  day_start  \n",
       "52991           12          4  \n",
       "11280            8          4  \n",
       "61074            1          5  \n",
       "13940            2          2  \n",
       "64299            9          4  "
      ]
     },
     "execution_count": 5,
     "metadata": {},
     "output_type": "execute_result"
    }
   ],
   "source": [
    "data_preparer.X_base_train.head()"
   ]
  },
  {
   "cell_type": "code",
   "execution_count": 6,
   "id": "b98f9be6-55f6-4d02-a4d8-0c6524dd4ed4",
   "metadata": {
    "execution": {
     "iopub.execute_input": "2023-12-05T15:42:06.042819Z",
     "iopub.status.busy": "2023-12-05T15:42:06.042011Z",
     "iopub.status.idle": "2023-12-05T15:42:06.053669Z",
     "shell.execute_reply": "2023-12-05T15:42:06.052814Z",
     "shell.execute_reply.started": "2023-12-05T15:42:06.042782Z"
    },
    "tags": []
   },
   "outputs": [
    {
     "data": {
      "text/html": [
       "<div>\n",
       "<style scoped>\n",
       "    .dataframe tbody tr th:only-of-type {\n",
       "        vertical-align: middle;\n",
       "    }\n",
       "\n",
       "    .dataframe tbody tr th {\n",
       "        vertical-align: top;\n",
       "    }\n",
       "\n",
       "    .dataframe thead th {\n",
       "        text-align: right;\n",
       "    }\n",
       "</style>\n",
       "<table border=\"1\" class=\"dataframe\">\n",
       "  <thead>\n",
       "    <tr style=\"text-align: right;\">\n",
       "      <th></th>\n",
       "      <th>product</th>\n",
       "      <th>commission</th>\n",
       "      <th>channel</th>\n",
       "      <th>age_bucket</th>\n",
       "      <th>operating_system</th>\n",
       "      <th>month_start</th>\n",
       "      <th>day_start</th>\n",
       "    </tr>\n",
       "  </thead>\n",
       "  <tbody>\n",
       "    <tr>\n",
       "      <th>71230</th>\n",
       "      <td>product_a</td>\n",
       "      <td>10.0000</td>\n",
       "      <td>channel_a</td>\n",
       "      <td>25-29</td>\n",
       "      <td>Android</td>\n",
       "      <td>7</td>\n",
       "      <td>3</td>\n",
       "    </tr>\n",
       "    <tr>\n",
       "      <th>72041</th>\n",
       "      <td>product_a</td>\n",
       "      <td>12.5575</td>\n",
       "      <td>channel_a</td>\n",
       "      <td>30-34</td>\n",
       "      <td>Android</td>\n",
       "      <td>5</td>\n",
       "      <td>3</td>\n",
       "    </tr>\n",
       "    <tr>\n",
       "      <th>90635</th>\n",
       "      <td>product_a</td>\n",
       "      <td>12.0475</td>\n",
       "      <td>channel_b</td>\n",
       "      <td>25-29</td>\n",
       "      <td>iOS</td>\n",
       "      <td>7</td>\n",
       "      <td>2</td>\n",
       "    </tr>\n",
       "    <tr>\n",
       "      <th>37539</th>\n",
       "      <td>product_a</td>\n",
       "      <td>10.0000</td>\n",
       "      <td>channel_b</td>\n",
       "      <td>18-24</td>\n",
       "      <td>Android</td>\n",
       "      <td>12</td>\n",
       "      <td>3</td>\n",
       "    </tr>\n",
       "    <tr>\n",
       "      <th>49487</th>\n",
       "      <td>product_a</td>\n",
       "      <td>12.5050</td>\n",
       "      <td>channel_a</td>\n",
       "      <td>25-29</td>\n",
       "      <td>iOS</td>\n",
       "      <td>7</td>\n",
       "      <td>6</td>\n",
       "    </tr>\n",
       "  </tbody>\n",
       "</table>\n",
       "</div>"
      ],
      "text/plain": [
       "         product  commission    channel age_bucket operating_system  \\\n",
       "71230  product_a     10.0000  channel_a      25-29          Android   \n",
       "72041  product_a     12.5575  channel_a      30-34          Android   \n",
       "90635  product_a     12.0475  channel_b      25-29              iOS   \n",
       "37539  product_a     10.0000  channel_b      18-24          Android   \n",
       "49487  product_a     12.5050  channel_a      25-29              iOS   \n",
       "\n",
       "       month_start  day_start  \n",
       "71230            7          3  \n",
       "72041            5          3  \n",
       "90635            7          2  \n",
       "37539           12          3  \n",
       "49487            7          6  "
      ]
     },
     "execution_count": 6,
     "metadata": {},
     "output_type": "execute_result"
    }
   ],
   "source": [
    "data_preparer.X_base_test.head()"
   ]
  },
  {
   "cell_type": "code",
   "execution_count": 7,
   "id": "b9a2341f-1027-45dd-b24c-e9f3cda2ccf4",
   "metadata": {
    "execution": {
     "iopub.execute_input": "2023-12-05T15:42:09.207751Z",
     "iopub.status.busy": "2023-12-05T15:42:09.206906Z",
     "iopub.status.idle": "2023-12-05T15:42:09.214076Z",
     "shell.execute_reply": "2023-12-05T15:42:09.213232Z",
     "shell.execute_reply.started": "2023-12-05T15:42:09.207719Z"
    },
    "tags": []
   },
   "outputs": [
    {
     "data": {
      "text/plain": [
       "52991    189.605260\n",
       "11280    173.670000\n",
       "61074    146.130000\n",
       "13940    119.566685\n",
       "64299    146.910000\n",
       "Name: clv_12, dtype: float64"
      ]
     },
     "execution_count": 7,
     "metadata": {},
     "output_type": "execute_result"
    }
   ],
   "source": [
    "data_preparer.y_base_train.head()"
   ]
  },
  {
   "cell_type": "code",
   "execution_count": 8,
   "id": "41253edb-4fe8-4391-8796-4ce8fca45a86",
   "metadata": {
    "execution": {
     "iopub.execute_input": "2023-12-05T15:42:09.681293Z",
     "iopub.status.busy": "2023-12-05T15:42:09.680456Z",
     "iopub.status.idle": "2023-12-05T15:42:09.687786Z",
     "shell.execute_reply": "2023-12-05T15:42:09.686927Z",
     "shell.execute_reply.started": "2023-12-05T15:42:09.681258Z"
    },
    "tags": []
   },
   "outputs": [
    {
     "data": {
      "text/plain": [
       "71230     82.849315\n",
       "72041     42.523479\n",
       "90635    144.570000\n",
       "37539    120.000000\n",
       "49487    150.060000\n",
       "Name: clv_12, dtype: float64"
      ]
     },
     "execution_count": 8,
     "metadata": {},
     "output_type": "execute_result"
    }
   ],
   "source": [
    "data_preparer.y_base_test.head()"
   ]
  },
  {
   "cell_type": "markdown",
   "id": "4be9de3b-b422-4113-858b-726c0e3ea398",
   "metadata": {},
   "source": [
    "### 1.2 Modelling"
   ]
  },
  {
   "cell_type": "markdown",
   "id": "029ce1c0-39ab-4e53-bd0e-8032e250880e",
   "metadata": {},
   "source": [
    "We tried out 2 models for the problem of predicting the user-level 12-month CLV:\n",
    "\n",
    "1. Linear regression: chosen due to simplicity, although from EDA some of the linear regression assumptions may not be covered in our data\n",
    "3. Catboost: chosen due to state of the art status and efficient handling of categorical variables \n",
    "\n",
    "We compare the performance of the 2 of them based on the Root Mean Squared Error (RMSE) and Mean Absolute Error (MAE) metrics, as usual for regression problems\n",
    "\n",
    "We will compare these 2 models against each other and vs 2 naive baselines:\n",
    "- Mean of historical CLV-12 of training set as prediction for all users\n",
    "- Median of historical CLV-12 of training set as prediction for all users\n",
    "\n",
    "We created clv_predictor module, which contains the CLVPredictor class that fits and trains all of the above models on a given train set, and evaluated them on a given test set, providing a comparison of their performance\n",
    "\n",
    "Let's initialize it below to predict for our customer base data"
   ]
  },
  {
   "cell_type": "code",
   "execution_count": 9,
   "id": "98a16436-3876-484f-ae48-d2bfc2c45596",
   "metadata": {
    "execution": {
     "iopub.execute_input": "2023-12-05T15:42:12.849117Z",
     "iopub.status.busy": "2023-12-05T15:42:12.848536Z",
     "iopub.status.idle": "2023-12-05T15:42:13.074679Z",
     "shell.execute_reply": "2023-12-05T15:42:13.073832Z",
     "shell.execute_reply.started": "2023-12-05T15:42:12.849083Z"
    },
    "tags": []
   },
   "outputs": [],
   "source": [
    "clv12_predictor = CLVPredictor(X_train=data_preparer.X_base_train, y_train=data_preparer.y_base_train, \\\n",
    "                               X_test=data_preparer.X_base_test, y_test=data_preparer.y_base_test, \\\n",
    "                               cat_features=[\"product\", \"channel\", \"age_bucket\", \"operating_system\", \"month_start\", \"day_start\"], \\\n",
    "                               models=[\"linear_regression\", \"catboost\", \"baseline_median\", \"baseline_mean\"]) "
   ]
  },
  {
   "cell_type": "markdown",
   "id": "35a590da-b564-4bda-bbcb-9b01afc93967",
   "metadata": {},
   "source": [
    "To fit and compare the performance of the different models for the customer base data, we simply run:"
   ]
  },
  {
   "cell_type": "code",
   "execution_count": 10,
   "id": "3ffb36af-9ba5-4ad2-8068-615df4363613",
   "metadata": {
    "execution": {
     "iopub.execute_input": "2023-12-05T15:42:14.263183Z",
     "iopub.status.busy": "2023-12-05T15:42:14.262411Z",
     "iopub.status.idle": "2023-12-05T15:42:15.696285Z",
     "shell.execute_reply": "2023-12-05T15:42:15.695166Z",
     "shell.execute_reply.started": "2023-12-05T15:42:14.263151Z"
    },
    "tags": []
   },
   "outputs": [
    {
     "name": "stderr",
     "output_type": "stream",
     "text": [
      "Fit all models\n",
      "Predicts for train and test set with all models\n",
      "The metrics of the different models on the train dataset are as follows\n",
      "      linear_regression   catboost  baseline_median  baseline_mean\n",
      "RMSE          36.451526  34.908477        41.298870      39.682416\n",
      "MAE           27.805206  25.985167        29.182792      31.379990\n",
      "The metrics of the different models on the test dataset are as follows\n",
      "      linear_regression   catboost  baseline_median  baseline_mean\n",
      "RMSE          56.007696  54.779731        61.878316      60.419559\n",
      "MAE           36.106641  35.598294        38.571720      40.752903\n"
     ]
    }
   ],
   "source": [
    "clv12_predictor.compare_regression_performance_all()"
   ]
  },
  {
   "cell_type": "markdown",
   "id": "2b2253e1-039f-4f96-8a9a-cfb51b6bdb01",
   "metadata": {},
   "source": [
    "We already got a summary of the performance of each model above, however, let's look at the metrics for the test set of the base data in a nicer format:"
   ]
  },
  {
   "cell_type": "code",
   "execution_count": 11,
   "id": "58891c3e-7669-4991-a305-b328731ff265",
   "metadata": {
    "execution": {
     "iopub.execute_input": "2023-12-05T15:42:20.572197Z",
     "iopub.status.busy": "2023-12-05T15:42:20.571381Z",
     "iopub.status.idle": "2023-12-05T15:42:20.577447Z",
     "shell.execute_reply": "2023-12-05T15:42:20.576311Z",
     "shell.execute_reply.started": "2023-12-05T15:42:20.572165Z"
    },
    "tags": []
   },
   "outputs": [],
   "source": [
    "df_base_test_performance = pd.DataFrame(clv12_predictor.eval_dict[\"test\"])"
   ]
  },
  {
   "cell_type": "code",
   "execution_count": 12,
   "id": "e7cfb3df-ece2-4f79-b15e-226917a4025e",
   "metadata": {
    "execution": {
     "iopub.execute_input": "2023-12-05T15:42:21.355992Z",
     "iopub.status.busy": "2023-12-05T15:42:21.354912Z",
     "iopub.status.idle": "2023-12-05T15:42:21.365548Z",
     "shell.execute_reply": "2023-12-05T15:42:21.364519Z",
     "shell.execute_reply.started": "2023-12-05T15:42:21.355954Z"
    },
    "tags": []
   },
   "outputs": [
    {
     "data": {
      "text/html": [
       "<div>\n",
       "<style scoped>\n",
       "    .dataframe tbody tr th:only-of-type {\n",
       "        vertical-align: middle;\n",
       "    }\n",
       "\n",
       "    .dataframe tbody tr th {\n",
       "        vertical-align: top;\n",
       "    }\n",
       "\n",
       "    .dataframe thead th {\n",
       "        text-align: right;\n",
       "    }\n",
       "</style>\n",
       "<table border=\"1\" class=\"dataframe\">\n",
       "  <thead>\n",
       "    <tr style=\"text-align: right;\">\n",
       "      <th></th>\n",
       "      <th>linear_regression</th>\n",
       "      <th>catboost</th>\n",
       "      <th>baseline_median</th>\n",
       "      <th>baseline_mean</th>\n",
       "    </tr>\n",
       "  </thead>\n",
       "  <tbody>\n",
       "    <tr>\n",
       "      <th>RMSE</th>\n",
       "      <td>56.007696</td>\n",
       "      <td>54.779731</td>\n",
       "      <td>61.878316</td>\n",
       "      <td>60.419559</td>\n",
       "    </tr>\n",
       "    <tr>\n",
       "      <th>MAE</th>\n",
       "      <td>36.106641</td>\n",
       "      <td>35.598294</td>\n",
       "      <td>38.571720</td>\n",
       "      <td>40.752903</td>\n",
       "    </tr>\n",
       "  </tbody>\n",
       "</table>\n",
       "</div>"
      ],
      "text/plain": [
       "      linear_regression   catboost  baseline_median  baseline_mean\n",
       "RMSE          56.007696  54.779731        61.878316      60.419559\n",
       "MAE           36.106641  35.598294        38.571720      40.752903"
      ]
     },
     "execution_count": 12,
     "metadata": {},
     "output_type": "execute_result"
    }
   ],
   "source": [
    "df_base_test_performance"
   ]
  },
  {
   "cell_type": "markdown",
   "id": "ed68b8ce-d538-4ba3-8f7f-799a5892421f",
   "metadata": {},
   "source": [
    "Under both metrics, catboost is the best performing model although it doesn't seem to be much ahead vs the linear regression model. To further understand the performance of all models, let's have a look at the standard deviation of the test 12-month CLV"
   ]
  },
  {
   "cell_type": "code",
   "execution_count": 13,
   "id": "a8501364-2773-49f8-91f9-8342f843364c",
   "metadata": {
    "execution": {
     "iopub.execute_input": "2023-12-05T15:42:44.019832Z",
     "iopub.status.busy": "2023-12-05T15:42:44.019020Z",
     "iopub.status.idle": "2023-12-05T15:42:44.030022Z",
     "shell.execute_reply": "2023-12-05T15:42:44.029267Z",
     "shell.execute_reply.started": "2023-12-05T15:42:44.019797Z"
    },
    "tags": []
   },
   "outputs": [
    {
     "data": {
      "text/plain": [
       "count    18337.000000\n",
       "mean       132.522900\n",
       "std         60.385535\n",
       "min          0.000000\n",
       "25%        120.000000\n",
       "50%        146.040000\n",
       "75%        155.970000\n",
       "max        712.140000\n",
       "Name: clv_12, dtype: float64"
      ]
     },
     "execution_count": 13,
     "metadata": {},
     "output_type": "execute_result"
    }
   ],
   "source": [
    "clv12_predictor.y_test.describe()"
   ]
  },
  {
   "cell_type": "markdown",
   "id": "6e3ccde2-ba82-4234-b790-e28e8a624745",
   "metadata": {},
   "source": [
    "Comparing the RMSE metric for catboost and linear regression, the value of this metric is lower than the variance of the dependent variable in the test set, however, it's very close in magnitude which is a sign of not a great performance. \n",
    "\n",
    "Let's now plot the predictions for y_test vs the real values to understand how they correlate for each model. \n",
    "\n",
    "We can see a lot of noise especially when predicting for customers with lower values of y_test. Both catboost and linear regression have a high degree of overestimation in this case. For customers with higher values of y_test, the performance seems to be directionally better for both models, although catboost tends to underestimate in this case"
   ]
  },
  {
   "cell_type": "code",
   "execution_count": 14,
   "id": "dc39d049-2ca6-4899-b0e2-99572b625a6b",
   "metadata": {
    "execution": {
     "iopub.execute_input": "2023-12-05T15:42:45.437334Z",
     "iopub.status.busy": "2023-12-05T15:42:45.436940Z",
     "iopub.status.idle": "2023-12-05T15:42:45.642443Z",
     "shell.execute_reply": "2023-12-05T15:42:45.641560Z",
     "shell.execute_reply.started": "2023-12-05T15:42:45.437308Z"
    },
    "tags": []
   },
   "outputs": [
    {
     "data": {
      "image/png": "[encoded data removed]",
      "text/plain": [
       "<Figure size 640x480 with 1 Axes>"
      ]
     },
     "metadata": {},
     "output_type": "display_data"
    }
   ],
   "source": [
    "plt.scatter(clv12_predictor.y_test, clv12_predictor.predictions[\"catboost\"][\"test\"])\n",
    "plt.xlabel(\"y_test\")\n",
    "plt.ylabel(\"y_pred\")\n",
    "plt.title(\"catboost\")\n",
    "plt.show()\n",
    "plt.show()"
   ]
  },
  {
   "cell_type": "code",
   "execution_count": 16,
   "id": "32ba3446-db2e-42b2-80ef-a0a22c26785c",
   "metadata": {
    "execution": {
     "iopub.execute_input": "2023-12-05T15:43:09.787194Z",
     "iopub.status.busy": "2023-12-05T15:43:09.786796Z",
     "iopub.status.idle": "2023-12-05T15:43:09.982612Z",
     "shell.execute_reply": "2023-12-05T15:43:09.981777Z",
     "shell.execute_reply.started": "2023-12-05T15:43:09.787168Z"
    },
    "tags": []
   },
   "outputs": [
    {
     "data": {
      "image/png": "[encoded data removed]",
      "text/plain": [
       "<Figure size 640x480 with 1 Axes>"
      ]
     },
     "metadata": {},
     "output_type": "display_data"
    }
   ],
   "source": [
    "plt.scatter(clv12_predictor.y_test, clv12_predictor.predictions[\"linear_regression\"][\"test\"])\n",
    "plt.xlabel(\"y_test\")\n",
    "plt.ylabel(\"y_pred\")\n",
    "plt.title(\"linear regression\")\n",
    "plt.show()\n",
    "plt.show()"
   ]
  },
  {
   "cell_type": "markdown",
   "id": "2c8846bc-c05a-479c-be0d-af00747fee6d",
   "metadata": {},
   "source": [
    "As the goal of the exercise is not to provide an optimal performing model, we will move on to the cross sell data problem and in the last section we will propose some next steps to further assess and improve the performance of all models"
   ]
  },
  {
   "cell_type": "markdown",
   "id": "308d59d5-1a2f-4f98-a7b9-ab311f64cdfa",
   "metadata": {
    "execution": {
     "iopub.execute_input": "2023-12-05T13:53:21.267023Z",
     "iopub.status.busy": "2023-12-05T13:53:21.265692Z",
     "iopub.status.idle": "2023-12-05T13:53:21.271645Z",
     "shell.execute_reply": "2023-12-05T13:53:21.270735Z",
     "shell.execute_reply.started": "2023-12-05T13:53:21.266957Z"
    }
   },
   "source": [
    "## 2. Cross Sell Data"
   ]
  },
  {
   "cell_type": "markdown",
   "id": "00abc2d4-5889-4eac-a728-323c541c8c8d",
   "metadata": {},
   "source": [
    "### 2.1 Data preparation"
   ]
  },
  {
   "cell_type": "markdown",
   "id": "96a3bb83-4877-4ad8-99bd-c7b33d6da088",
   "metadata": {},
   "source": [
    "Based on the EDA, we noticed that the cross sell CLV is associated to be higher when customers convert to product_x, however the biggest part of the problem to predict cross sell CLV for a new customer is estimating whether they will convert to cross sell at all. Hence, to simplify the problem, we decided to directly estimate the total cross sell CLV for a given customer, regardless of the cross sell product they converted to, while adding negative samples of historical that did not convert to cross sell so the model can learn the difference between conversion and non-conversion events\n",
    "\n",
    "In the future, we could create a more nuanced model to predict the cross sell product a customer is likely to convert to (if any) which would potentially help to improve the cross sell CLV estimation. However, as a first experiment we tackle the simpler version of the problem\n",
    "\n",
    "For the current solution however, the specifications are as below:\n",
    "\n",
    "Dependent variable: user-level aggregate cross sell CLV\n",
    "\n",
    "Features: product, commission, channel, age_bucket, operating_system, month_start, day_start, clv_12\n",
    "\n",
    "Note that we will be using the 12-month CLV as a feature, so to generate the cross sell CLV prediction for a new customer we would need to generate their 12-month CLV prediction and use it as input for the cross sell CLV predictor\n",
    "\n",
    "Data preparation steps:\n",
    "- Fill cross sell commission NaNs with median values for each product\n",
    "- Group cross sell data by user_id to calculate aggregate user-level cross sell CLV \n",
    "- Join grouped cross sell data with customer base features\n",
    "- Extract additional negative samples from customer base dataset\n",
    "- Split dataframe into features X=[\"product\", \"commission\", \"channel\", \"age_bucket\", \"operating_system\", \"month_start\", \"day_start\", \"clv_12\"], and dependent variable y=\"clv_xs\"\n",
    "- Separate data into train (80%) and test (20%) sets"
   ]
  },
  {
   "cell_type": "markdown",
   "id": "142f4530-289a-42ad-886e-9fe99a79e302",
   "metadata": {},
   "source": [
    "Let's now run the prepare_xs_data_for_ml_model method, which will prepare the cross sell data by following the steps"
   ]
  },
  {
   "cell_type": "code",
   "execution_count": 17,
   "id": "9d7b142d-9e2d-4da7-8525-6329b5797fdc",
   "metadata": {
    "execution": {
     "iopub.execute_input": "2023-12-05T15:44:36.604544Z",
     "iopub.status.busy": "2023-12-05T15:44:36.603619Z",
     "iopub.status.idle": "2023-12-05T15:44:47.256301Z",
     "shell.execute_reply": "2023-12-05T15:44:47.255382Z",
     "shell.execute_reply.started": "2023-12-05T15:44:36.604506Z"
    },
    "tags": []
   },
   "outputs": [],
   "source": [
    "data_preparer.prepare_xs_data_for_ml_model()"
   ]
  },
  {
   "cell_type": "code",
   "execution_count": 18,
   "id": "a2b24c81-db2b-4929-b897-0052234180b5",
   "metadata": {
    "execution": {
     "iopub.execute_input": "2023-12-05T15:44:47.258095Z",
     "iopub.status.busy": "2023-12-05T15:44:47.257802Z",
     "iopub.status.idle": "2023-12-05T15:44:47.269845Z",
     "shell.execute_reply": "2023-12-05T15:44:47.268900Z",
     "shell.execute_reply.started": "2023-12-05T15:44:47.258072Z"
    },
    "tags": []
   },
   "outputs": [
    {
     "data": {
      "text/html": [
       "<div>\n",
       "<style scoped>\n",
       "    .dataframe tbody tr th:only-of-type {\n",
       "        vertical-align: middle;\n",
       "    }\n",
       "\n",
       "    .dataframe tbody tr th {\n",
       "        vertical-align: top;\n",
       "    }\n",
       "\n",
       "    .dataframe thead th {\n",
       "        text-align: right;\n",
       "    }\n",
       "</style>\n",
       "<table border=\"1\" class=\"dataframe\">\n",
       "  <thead>\n",
       "    <tr style=\"text-align: right;\">\n",
       "      <th></th>\n",
       "      <th>product</th>\n",
       "      <th>commission</th>\n",
       "      <th>channel</th>\n",
       "      <th>age_bucket</th>\n",
       "      <th>operating_system</th>\n",
       "      <th>month_start</th>\n",
       "      <th>day_start</th>\n",
       "      <th>clv_12</th>\n",
       "    </tr>\n",
       "  </thead>\n",
       "  <tbody>\n",
       "    <tr>\n",
       "      <th>223</th>\n",
       "      <td>product_a</td>\n",
       "      <td>12.4575</td>\n",
       "      <td>channel_b</td>\n",
       "      <td>30-34</td>\n",
       "      <td>Android</td>\n",
       "      <td>11</td>\n",
       "      <td>1</td>\n",
       "      <td>149.490000</td>\n",
       "    </tr>\n",
       "    <tr>\n",
       "      <th>45185</th>\n",
       "      <td>product_a</td>\n",
       "      <td>14.4650</td>\n",
       "      <td>channel_b</td>\n",
       "      <td>18-24</td>\n",
       "      <td>iOS</td>\n",
       "      <td>10</td>\n",
       "      <td>2</td>\n",
       "      <td>173.580000</td>\n",
       "    </tr>\n",
       "    <tr>\n",
       "      <th>88818</th>\n",
       "      <td>product_a</td>\n",
       "      <td>12.1775</td>\n",
       "      <td>channel_a</td>\n",
       "      <td>45-49</td>\n",
       "      <td>iOS</td>\n",
       "      <td>12</td>\n",
       "      <td>3</td>\n",
       "      <td>120.106849</td>\n",
       "    </tr>\n",
       "    <tr>\n",
       "      <th>229</th>\n",
       "      <td>product_c</td>\n",
       "      <td>25.7100</td>\n",
       "      <td>channel_b</td>\n",
       "      <td>30-34</td>\n",
       "      <td>iOS</td>\n",
       "      <td>10</td>\n",
       "      <td>6</td>\n",
       "      <td>308.520000</td>\n",
       "    </tr>\n",
       "    <tr>\n",
       "      <th>396</th>\n",
       "      <td>product_c</td>\n",
       "      <td>15.8100</td>\n",
       "      <td>channel_b</td>\n",
       "      <td>25-29</td>\n",
       "      <td>Android</td>\n",
       "      <td>7</td>\n",
       "      <td>4</td>\n",
       "      <td>189.720000</td>\n",
       "    </tr>\n",
       "  </tbody>\n",
       "</table>\n",
       "</div>"
      ],
      "text/plain": [
       "         product  commission    channel age_bucket operating_system  \\\n",
       "223    product_a     12.4575  channel_b      30-34          Android   \n",
       "45185  product_a     14.4650  channel_b      18-24              iOS   \n",
       "88818  product_a     12.1775  channel_a      45-49              iOS   \n",
       "229    product_c     25.7100  channel_b      30-34              iOS   \n",
       "396    product_c     15.8100  channel_b      25-29          Android   \n",
       "\n",
       "       month_start  day_start      clv_12  \n",
       "223             11          1  149.490000  \n",
       "45185           10          2  173.580000  \n",
       "88818           12          3  120.106849  \n",
       "229             10          6  308.520000  \n",
       "396              7          4  189.720000  "
      ]
     },
     "execution_count": 18,
     "metadata": {},
     "output_type": "execute_result"
    }
   ],
   "source": [
    "data_preparer.X_xs_train.head()"
   ]
  },
  {
   "cell_type": "code",
   "execution_count": 19,
   "id": "b1ae9f79-86b7-4b8c-b038-3e68a1a76609",
   "metadata": {
    "execution": {
     "iopub.execute_input": "2023-12-05T15:44:47.271211Z",
     "iopub.status.busy": "2023-12-05T15:44:47.270936Z",
     "iopub.status.idle": "2023-12-05T15:44:47.283246Z",
     "shell.execute_reply": "2023-12-05T15:44:47.282465Z",
     "shell.execute_reply.started": "2023-12-05T15:44:47.271189Z"
    },
    "tags": []
   },
   "outputs": [
    {
     "data": {
      "text/html": [
       "<div>\n",
       "<style scoped>\n",
       "    .dataframe tbody tr th:only-of-type {\n",
       "        vertical-align: middle;\n",
       "    }\n",
       "\n",
       "    .dataframe tbody tr th {\n",
       "        vertical-align: top;\n",
       "    }\n",
       "\n",
       "    .dataframe thead th {\n",
       "        text-align: right;\n",
       "    }\n",
       "</style>\n",
       "<table border=\"1\" class=\"dataframe\">\n",
       "  <thead>\n",
       "    <tr style=\"text-align: right;\">\n",
       "      <th></th>\n",
       "      <th>product</th>\n",
       "      <th>commission</th>\n",
       "      <th>channel</th>\n",
       "      <th>age_bucket</th>\n",
       "      <th>operating_system</th>\n",
       "      <th>month_start</th>\n",
       "      <th>day_start</th>\n",
       "      <th>clv_12</th>\n",
       "    </tr>\n",
       "  </thead>\n",
       "  <tbody>\n",
       "    <tr>\n",
       "      <th>42382</th>\n",
       "      <td>product_a</td>\n",
       "      <td>11.5750</td>\n",
       "      <td>channel_a</td>\n",
       "      <td>25-29</td>\n",
       "      <td>Android</td>\n",
       "      <td>1</td>\n",
       "      <td>4</td>\n",
       "      <td>138.90</td>\n",
       "    </tr>\n",
       "    <tr>\n",
       "      <th>1065</th>\n",
       "      <td>product_a</td>\n",
       "      <td>12.6275</td>\n",
       "      <td>channel_a</td>\n",
       "      <td>30-34</td>\n",
       "      <td>Android</td>\n",
       "      <td>9</td>\n",
       "      <td>0</td>\n",
       "      <td>151.53</td>\n",
       "    </tr>\n",
       "    <tr>\n",
       "      <th>962</th>\n",
       "      <td>product_a</td>\n",
       "      <td>12.1775</td>\n",
       "      <td>channel_a</td>\n",
       "      <td>55+</td>\n",
       "      <td>iOS</td>\n",
       "      <td>11</td>\n",
       "      <td>0</td>\n",
       "      <td>146.13</td>\n",
       "    </tr>\n",
       "    <tr>\n",
       "      <th>733</th>\n",
       "      <td>product_a</td>\n",
       "      <td>13.1950</td>\n",
       "      <td>channel_b</td>\n",
       "      <td>25-29</td>\n",
       "      <td>Android</td>\n",
       "      <td>10</td>\n",
       "      <td>0</td>\n",
       "      <td>158.34</td>\n",
       "    </tr>\n",
       "    <tr>\n",
       "      <th>726</th>\n",
       "      <td>product_c</td>\n",
       "      <td>21.6600</td>\n",
       "      <td>channel_b</td>\n",
       "      <td>40-44</td>\n",
       "      <td>iOS</td>\n",
       "      <td>4</td>\n",
       "      <td>2</td>\n",
       "      <td>259.92</td>\n",
       "    </tr>\n",
       "  </tbody>\n",
       "</table>\n",
       "</div>"
      ],
      "text/plain": [
       "         product  commission    channel age_bucket operating_system  \\\n",
       "42382  product_a     11.5750  channel_a      25-29          Android   \n",
       "1065   product_a     12.6275  channel_a      30-34          Android   \n",
       "962    product_a     12.1775  channel_a        55+              iOS   \n",
       "733    product_a     13.1950  channel_b      25-29          Android   \n",
       "726    product_c     21.6600  channel_b      40-44              iOS   \n",
       "\n",
       "       month_start  day_start  clv_12  \n",
       "42382            1          4  138.90  \n",
       "1065             9          0  151.53  \n",
       "962             11          0  146.13  \n",
       "733             10          0  158.34  \n",
       "726              4          2  259.92  "
      ]
     },
     "execution_count": 19,
     "metadata": {},
     "output_type": "execute_result"
    }
   ],
   "source": [
    "data_preparer.X_xs_test.head()"
   ]
  },
  {
   "cell_type": "code",
   "execution_count": 20,
   "id": "98b425ec-4446-456d-990f-215cb70fb926",
   "metadata": {
    "execution": {
     "iopub.execute_input": "2023-12-05T15:44:47.285349Z",
     "iopub.status.busy": "2023-12-05T15:44:47.285068Z",
     "iopub.status.idle": "2023-12-05T15:44:47.291535Z",
     "shell.execute_reply": "2023-12-05T15:44:47.290850Z",
     "shell.execute_reply.started": "2023-12-05T15:44:47.285327Z"
    },
    "tags": []
   },
   "outputs": [
    {
     "data": {
      "text/plain": [
       "223      526.85\n",
       "45185      0.00\n",
       "88818      0.00\n",
       "229      136.00\n",
       "396      294.13\n",
       "Name: clv_xs, dtype: float64"
      ]
     },
     "execution_count": 20,
     "metadata": {},
     "output_type": "execute_result"
    }
   ],
   "source": [
    "data_preparer.y_xs_train.head()"
   ]
  },
  {
   "cell_type": "code",
   "execution_count": 21,
   "id": "360764d0-5441-4983-b922-d6f88a77e282",
   "metadata": {
    "execution": {
     "iopub.execute_input": "2023-12-05T15:44:47.292696Z",
     "iopub.status.busy": "2023-12-05T15:44:47.292440Z",
     "iopub.status.idle": "2023-12-05T15:44:47.299287Z",
     "shell.execute_reply": "2023-12-05T15:44:47.298551Z",
     "shell.execute_reply.started": "2023-12-05T15:44:47.292675Z"
    },
    "tags": []
   },
   "outputs": [
    {
     "data": {
      "text/plain": [
       "42382       0.0000\n",
       "1065     1157.0250\n",
       "962         0.0000\n",
       "733       661.9025\n",
       "726       526.8500\n",
       "Name: clv_xs, dtype: float64"
      ]
     },
     "execution_count": 21,
     "metadata": {},
     "output_type": "execute_result"
    }
   ],
   "source": [
    "data_preparer.y_xs_test.head()"
   ]
  },
  {
   "cell_type": "markdown",
   "id": "bfec3868-d118-4231-b6f1-b5bf5be92d72",
   "metadata": {},
   "source": [
    "### 2.2 Modelling "
   ]
  },
  {
   "cell_type": "markdown",
   "id": "b1de2b1d-fef2-40ad-9088-3c1bbdb71cdd",
   "metadata": {},
   "source": [
    "We tried out the same 2 models as we did for the problem of predicting the user-level 12-month CLV:\n",
    "\n",
    "1. Linear regression\n",
    "3. Catboost \n",
    "\n",
    "We again, compare the performance of the 2 of them based on RMSE and MAE\n",
    "\n",
    "We will also compare these 2 models against each other and vs the same naive baselines we used before:\n",
    "- Mean of historical cross sell CLV of training set as prediction for all users\n",
    "- Median of historical cross sell CLV of training set as prediction for all users\n",
    "\n",
    "We again use the clv_predictor module to fit and train all of the above models on the given train set, and evaluate them on the test set, providing a comparison of their performance\n",
    "\n",
    "Let's initialize it below to predict for our cross sell data"
   ]
  },
  {
   "cell_type": "code",
   "execution_count": 22,
   "id": "09b34327-5bfd-464b-9593-2ad415cd2251",
   "metadata": {
    "execution": {
     "iopub.execute_input": "2023-12-05T15:44:47.300466Z",
     "iopub.status.busy": "2023-12-05T15:44:47.300210Z",
     "iopub.status.idle": "2023-12-05T15:44:47.328699Z",
     "shell.execute_reply": "2023-12-05T15:44:47.327888Z",
     "shell.execute_reply.started": "2023-12-05T15:44:47.300444Z"
    },
    "tags": []
   },
   "outputs": [],
   "source": [
    "clvxs_predictor = CLVPredictor(X_train=data_preparer.X_xs_train, y_train=data_preparer.y_xs_train, \\\n",
    "                               X_test=data_preparer.X_xs_test, y_test=data_preparer.y_xs_test, \\\n",
    "                               cat_features=[\"product\", \"channel\", \"age_bucket\", \"operating_system\", \"month_start\", \"day_start\"], \\\n",
    "                               models=[\"linear_regression\", \"catboost\", \"baseline_median\", \"baseline_mean\"])"
   ]
  },
  {
   "cell_type": "code",
   "execution_count": 23,
   "id": "547bb5e8-ba0f-4707-86c8-38ceed4f86d5",
   "metadata": {
    "execution": {
     "iopub.execute_input": "2023-12-05T15:44:47.330015Z",
     "iopub.status.busy": "2023-12-05T15:44:47.329753Z",
     "iopub.status.idle": "2023-12-05T15:44:47.682719Z",
     "shell.execute_reply": "2023-12-05T15:44:47.681860Z",
     "shell.execute_reply.started": "2023-12-05T15:44:47.329993Z"
    },
    "tags": []
   },
   "outputs": [
    {
     "name": "stderr",
     "output_type": "stream",
     "text": [
      "Fit all models\n",
      "Predicts for train and test set with all models\n",
      "The metrics of the different models on the train dataset are as follows\n",
      "      linear_regression    catboost  baseline_median  baseline_mean\n",
      "RMSE         547.459827  519.848463       701.498196     584.471300\n",
      "MAE          359.228914  343.290591       387.934296     411.629421\n",
      "The metrics of the different models on the test dataset are as follows\n",
      "      linear_regression    catboost  baseline_median  baseline_mean\n",
      "RMSE         516.147617  524.205149       657.824277     541.498607\n",
      "MAE          364.964359  368.666961       373.781152     394.801478\n"
     ]
    }
   ],
   "source": [
    "clvxs_predictor.compare_regression_performance_all()"
   ]
  },
  {
   "cell_type": "code",
   "execution_count": 24,
   "id": "78a0b30c-0b58-4095-97f0-fd8659af7683",
   "metadata": {
    "execution": {
     "iopub.execute_input": "2023-12-05T15:44:47.684143Z",
     "iopub.status.busy": "2023-12-05T15:44:47.683780Z",
     "iopub.status.idle": "2023-12-05T15:44:47.689347Z",
     "shell.execute_reply": "2023-12-05T15:44:47.688431Z",
     "shell.execute_reply.started": "2023-12-05T15:44:47.684112Z"
    },
    "tags": []
   },
   "outputs": [],
   "source": [
    "df_xs_test_performance = pd.DataFrame(clvxs_predictor.eval_dict[\"test\"])"
   ]
  },
  {
   "cell_type": "code",
   "execution_count": 25,
   "id": "44a9269b-6dcd-495e-bac5-663dd25159df",
   "metadata": {
    "execution": {
     "iopub.execute_input": "2023-12-05T15:44:47.690657Z",
     "iopub.status.busy": "2023-12-05T15:44:47.690383Z",
     "iopub.status.idle": "2023-12-05T15:44:47.699860Z",
     "shell.execute_reply": "2023-12-05T15:44:47.699082Z",
     "shell.execute_reply.started": "2023-12-05T15:44:47.690634Z"
    },
    "tags": []
   },
   "outputs": [
    {
     "data": {
      "text/html": [
       "<div>\n",
       "<style scoped>\n",
       "    .dataframe tbody tr th:only-of-type {\n",
       "        vertical-align: middle;\n",
       "    }\n",
       "\n",
       "    .dataframe tbody tr th {\n",
       "        vertical-align: top;\n",
       "    }\n",
       "\n",
       "    .dataframe thead th {\n",
       "        text-align: right;\n",
       "    }\n",
       "</style>\n",
       "<table border=\"1\" class=\"dataframe\">\n",
       "  <thead>\n",
       "    <tr style=\"text-align: right;\">\n",
       "      <th></th>\n",
       "      <th>linear_regression</th>\n",
       "      <th>catboost</th>\n",
       "      <th>baseline_median</th>\n",
       "      <th>baseline_mean</th>\n",
       "    </tr>\n",
       "  </thead>\n",
       "  <tbody>\n",
       "    <tr>\n",
       "      <th>RMSE</th>\n",
       "      <td>516.147617</td>\n",
       "      <td>524.205149</td>\n",
       "      <td>657.824277</td>\n",
       "      <td>541.498607</td>\n",
       "    </tr>\n",
       "    <tr>\n",
       "      <th>MAE</th>\n",
       "      <td>364.964359</td>\n",
       "      <td>368.666961</td>\n",
       "      <td>373.781152</td>\n",
       "      <td>394.801478</td>\n",
       "    </tr>\n",
       "  </tbody>\n",
       "</table>\n",
       "</div>"
      ],
      "text/plain": [
       "      linear_regression    catboost  baseline_median  baseline_mean\n",
       "RMSE         516.147617  524.205149       657.824277     541.498607\n",
       "MAE          364.964359  368.666961       373.781152     394.801478"
      ]
     },
     "execution_count": 25,
     "metadata": {},
     "output_type": "execute_result"
    }
   ],
   "source": [
    "df_xs_test_performance"
   ]
  },
  {
   "cell_type": "markdown",
   "id": "453fbb9c-a176-49fe-9788-3df287796141",
   "metadata": {},
   "source": [
    "Under both metrics, linear regression is the best performing model. To further understand the performance of all models, let's have a look at the standard deviation of the test 12-month CLV"
   ]
  },
  {
   "cell_type": "code",
   "execution_count": 26,
   "id": "18bd6581-143e-41e4-97a3-4ab91bb89d41",
   "metadata": {
    "execution": {
     "iopub.execute_input": "2023-12-05T15:44:47.702461Z",
     "iopub.status.busy": "2023-12-05T15:44:47.702205Z",
     "iopub.status.idle": "2023-12-05T15:44:47.710507Z",
     "shell.execute_reply": "2023-12-05T15:44:47.709741Z",
     "shell.execute_reply.started": "2023-12-05T15:44:47.702440Z"
    },
    "tags": []
   },
   "outputs": [
    {
     "data": {
      "text/plain": [
       "count     458.000000\n",
       "mean      373.781152\n",
       "std       541.905539\n",
       "min         0.000000\n",
       "25%         0.000000\n",
       "50%       121.723750\n",
       "75%       526.850000\n",
       "max      3226.800000\n",
       "Name: clv_xs, dtype: float64"
      ]
     },
     "execution_count": 26,
     "metadata": {},
     "output_type": "execute_result"
    }
   ],
   "source": [
    "clvxs_predictor.y_test.describe()"
   ]
  },
  {
   "cell_type": "markdown",
   "id": "f82a9d09-49f3-42b0-8187-990a4a5c2cc4",
   "metadata": {},
   "source": [
    "As for the base data, RMSE of the linear regression and catboost models is lower than the standard deviation of y_test, however their magnitud is close which indicates room for improvement in regard to performance"
   ]
  },
  {
   "cell_type": "markdown",
   "id": "b7b50894-f053-48f2-b6cb-13b0c81b0f53",
   "metadata": {},
   "source": [
    "Through the plots below we can further assess the performance for both models. We can see in both cases predictions are very noisy for customers that do not convert to cross sell (y_test=0), as well as for low values of y_test.\n",
    "\n",
    "Both models have negative predictions. In the case of linear regression, we would need to investigate the regression coefficients to understand what is causing this. In the case of catboost, we would have to investigate overfitting, feature interactions and hyperparameter effect of e.g. learning rate and number of trees to further understand the cause of the problem."
   ]
  },
  {
   "cell_type": "code",
   "execution_count": 27,
   "id": "3f8f178a-5088-41a0-b576-a64a041f5407",
   "metadata": {
    "execution": {
     "iopub.execute_input": "2023-12-05T15:44:47.711997Z",
     "iopub.status.busy": "2023-12-05T15:44:47.711729Z",
     "iopub.status.idle": "2023-12-05T15:44:47.849155Z",
     "shell.execute_reply": "2023-12-05T15:44:47.848109Z",
     "shell.execute_reply.started": "2023-12-05T15:44:47.711975Z"
    },
    "tags": []
   },
   "outputs": [
    {
     "data": {
      "image/png": "[encoded data removed]",
      "text/plain": [
       "<Figure size 640x480 with 1 Axes>"
      ]
     },
     "metadata": {},
     "output_type": "display_data"
    }
   ],
   "source": [
    "plt.scatter(clvxs_predictor.y_test, clvxs_predictor.predictions[\"catboost\"][\"test\"])\n",
    "plt.xlabel(\"y_test\")\n",
    "plt.ylabel(\"y_pred\")\n",
    "plt.title(\"catboost\")\n",
    "plt.show()"
   ]
  },
  {
   "cell_type": "code",
   "execution_count": 28,
   "id": "4537b4e7-8557-41bb-b638-29191673da85",
   "metadata": {
    "execution": {
     "iopub.execute_input": "2023-12-05T15:44:47.850481Z",
     "iopub.status.busy": "2023-12-05T15:44:47.850141Z",
     "iopub.status.idle": "2023-12-05T15:44:47.985799Z",
     "shell.execute_reply": "2023-12-05T15:44:47.984810Z",
     "shell.execute_reply.started": "2023-12-05T15:44:47.850453Z"
    },
    "tags": []
   },
   "outputs": [
    {
     "data": {
      "image/png": "[encoded data removed]",
      "text/plain": [
       "<Figure size 640x480 with 1 Axes>"
      ]
     },
     "metadata": {},
     "output_type": "display_data"
    }
   ],
   "source": [
    "plt.scatter(clvxs_predictor.y_test, clvxs_predictor.predictions[\"linear_regression\"][\"test\"])\n",
    "plt.xlabel(\"y_test\")\n",
    "plt.ylabel(\"y_pred\")\n",
    "plt.title(\"linear_regression\")\n",
    "plt.show()"
   ]
  },
  {
   "cell_type": "markdown",
   "id": "cf59e51c-d8a1-4ef5-8827-703bc505d500",
   "metadata": {
    "tags": []
   },
   "source": [
    "## 3. Further model evaluation and improvement ideas"
   ]
  },
  {
   "cell_type": "markdown",
   "id": "c5191cc7-9b18-4308-ac03-f5b954437f82",
   "metadata": {},
   "source": [
    "Due to lack of time we could not further experiment with these ideas to continue the evaluation and improvement of the models:\n",
    "- To further understand and improve performance of the linear regression models for both cases, we would need to analyze the estimated linear regression coefficients, improve feature selection based on these insights and determine whether regularization would be beneficial. We should also check if in general the assumptions of linear regression remain true through an analysis of residuals. We should additionally define a validation set or perform cross validation based on which we would do hyperparameter tuning e.g. to determine optimal regularization\n",
    "- In the case of the catboost models, we should further investigate the feature importance scores, improve feature selection based on these, perform hyperparameter tuning based on a validation set or cross validation and plot the learning curves of the training and validation error to understand whether the model is overfitting, underfitting as well as if it requires more data or regularization\n",
    "- We additionally should assess prediction samples, i.e. identify cases for which the models are performing really good and bad to gain further insights on what needs improving through this analysis\n",
    "- The problem definition of the cross sell CLV prediction should potentially be adjusted, as we observed a lot of noise for predictions of the non-converted customers. We could potentially do a classification model that would predict the probability of cross sell conversion to either product_x, product_y or both for a new customer and then have another model that estimated cross sell CLV for converted customers\n",
    "- We could explore doing additional CLV prediction models that take in duration as a feature (e.g. stop assuming we only care about cold start problem for new customers), and update CLV predictions as the customer lifetime as a Getsafe user increases"
   ]
  },
  {
   "cell_type": "markdown",
   "id": "28d90e7b-aede-418b-a0e7-aeb7d3005493",
   "metadata": {},
   "source": [
    "## 4. What additional data points would you want to consider to improve the prediction and why?"
   ]
  },
  {
   "cell_type": "markdown",
   "id": "8b2fad61-b723-4e0a-9c3e-386f66fdade3",
   "metadata": {},
   "source": [
    "For the 12-month CLV prediction:\n",
    "- More demographic data about users, e.g. gender, location, income level, occupation, as these could provide insights into subscription patterns\n",
    "- Churn reason, if there is any data recorded around this, as this could help us to determine patterns leading to different reasons\n",
    "- Customer service interactions and customer satisfaction data and feedback from user surveys, as these could help us to predict early churn or a lasting customer relationship\n",
    "- More information regarding commission and how they are determined for a given user, as this variable presents relevant variation for all products and could be useful to have a deeper knowledge of it to determine how it correlated to early churn\n",
    "\n",
    "For the cross sell CLV prediction (in addition to most of the above):\n",
    "- Product views, clicks, time spent on product pages, add-to-cart actions, as these could help us to indicate interest of a customer buying a cross sell product\n",
    "- Search history on app or website, as this could also help to signal interest in a cross sell product\n",
    "- Promotional offers data, as this could help us to understand further reasons for cross selling\n",
    "- More datapoints, as the cross sell dataset is quite small"
   ]
  },
  {
   "cell_type": "markdown",
   "id": "c32ec5bf-4e32-4e16-9642-9b9d95154afb",
   "metadata": {},
   "source": [
    "## 5. Further steps to productionize the model"
   ]
  },
  {
   "cell_type": "markdown",
   "id": "7b1f0e8f-1d8d-4b6d-a889-e7ec7dfe2311",
   "metadata": {},
   "source": [
    "Once we develop a model that performs well and are ready to productionize it, we would proceed to design a python package with modules for at least:\n",
    "- data preparation\n",
    "- model train and predict\n",
    "- model evaluation\n",
    "\n",
    "We would include unit tests and a continuous integration pipeline that would help us to assess the functionality and performance of the code components. The code would be linted, well commented, with docstrings and type hinting\n",
    "\n",
    "We would need to determine whether productionizing through a model service or batch prediction. This would depende on the model use case and we would need to further understand this to provide a recommendation\n",
    "\n",
    "PS: the modules used for data preparation, train and predict in this notebook were designed only for the purposes of this exercise and are not a proposal for how the code should be productionized, e.g. I didn't follow my advice fully re: linting, docstrings and type hinting but would do so if I had had more time :) "
   ]
  },
  {
   "cell_type": "code",
   "execution_count": null,
   "id": "b1c56fe3-85b0-4396-8f3c-75cc8ae9a105",
   "metadata": {},
   "outputs": [],
   "source": []
  }
 ],
 "metadata": {
  "environment": {
   "kernel": "gs",
   "name": "common-cu113.m110",
   "type": "gcloud",
   "uri": "gcr.io/deeplearning-platform-release/base-cu113:m110"
  },
  "kernelspec": {
   "display_name": "gs",
   "language": "python",
   "name": "gs"
  },
  "language_info": {
   "codemirror_mode": {
    "name": "ipython",
    "version": 3
   },
   "file_extension": ".py",
   "mimetype": "text/x-python",
   "name": "python",
   "nbconvert_exporter": "python",
   "pygments_lexer": "ipython3",
   "version": "3.7.3"
  }
 },
 "nbformat": 4,
 "nbformat_minor": 5
}
